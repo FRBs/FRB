{
 "cells": [
  {
   "cell_type": "markdown",
   "metadata": {},
   "source": [
    "# Generate the JSON file for the Host of the First Repeater\n",
    "    v1 -- Ball rolling"
   ]
  },
  {
   "cell_type": "code",
   "execution_count": 2,
   "metadata": {},
   "outputs": [],
   "source": [
    "# imports\n",
    "from importlib import reload\n",
    "\n",
    "import importlib_resources\n",
    "\n",
    "from astropy.coordinates import SkyCoord\n",
    "from astropy import units\n",
    "\n",
    "from frb.galaxies import frbgalaxy, defs"
   ]
  },
  {
   "cell_type": "markdown",
   "metadata": {},
   "source": [
    "## The following will become a script that will be kept update (this Notebook may not)"
   ]
  },
  {
   "cell_type": "markdown",
   "metadata": {},
   "source": [
    "## Instantiate"
   ]
  },
  {
   "cell_type": "markdown",
   "metadata": {},
   "source": [
    "### Grab coordinates "
   ]
  },
  {
   "cell_type": "markdown",
   "metadata": {},
   "source": [
    "#### Marcote et al. 2017 for FRB"
   ]
  },
  {
   "cell_type": "code",
   "execution_count": 3,
   "metadata": {},
   "outputs": [
    {
     "data": {
      "text/plain": [
       "<SkyCoord (ICRS): (ra, dec) in deg\n",
       "    (82.994575, 33.14794167)>"
      ]
     },
     "execution_count": 3,
     "metadata": {},
     "output_type": "execute_result"
    }
   ],
   "source": [
    "FRB_coord = SkyCoord('05h31m58.698s +33d8m52.59s', frame='icrs')\n",
    "FRB_coord"
   ]
  },
  {
   "cell_type": "markdown",
   "metadata": {},
   "source": [
    "#### Eyeball Tendulkar+17 offset"
   ]
  },
  {
   "cell_type": "code",
   "execution_count": 4,
   "metadata": {},
   "outputs": [],
   "source": [
    "gal_coord = FRB_coord.directional_offset_by(-45*units.deg, 286e-3*units.arcsec)"
   ]
  },
  {
   "cell_type": "code",
   "execution_count": 5,
   "metadata": {},
   "outputs": [
    {
     "data": {
      "text/plain": [
       "<SkyCoord (ICRS): (ra, dec) in deg\n",
       "    (82.99450791, 33.14799784)>"
      ]
     },
     "execution_count": 5,
     "metadata": {},
     "output_type": "execute_result"
    }
   ],
   "source": [
    "gal_coord"
   ]
  },
  {
   "cell_type": "markdown",
   "metadata": {},
   "source": [
    "### Go"
   ]
  },
  {
   "cell_type": "code",
   "execution_count": 6,
   "metadata": {},
   "outputs": [
    {
     "data": {
      "text/plain": [
       "<FRBHost: 05:31:58.6819 +33:08:52.7922, FRB=121102>"
      ]
     },
     "execution_count": 6,
     "metadata": {},
     "output_type": "execute_result"
    }
   ],
   "source": [
    "host121102 = frbgalaxy.FRBHost(gal_coord.ra.value, gal_coord.dec.value, '121102')\n",
    "host121102"
   ]
  },
  {
   "cell_type": "markdown",
   "metadata": {},
   "source": [
    "## Redshift"
   ]
  },
  {
   "cell_type": "code",
   "execution_count": 7,
   "metadata": {},
   "outputs": [],
   "source": [
    "host121102.set_z(0.19273, 'spec', err=0.00008)"
   ]
  },
  {
   "cell_type": "code",
   "execution_count": 8,
   "metadata": {},
   "outputs": [
    {
     "data": {
      "text/plain": [
       "{'z': 0.19273,\n",
       " 'z_FRB': 0.19273,\n",
       " 'z_FRB_err': 8e-05,\n",
       " 'z_err': 8e-05,\n",
       " 'z_spec': 0.19273,\n",
       " 'z_spec_err': 8e-05}"
      ]
     },
     "execution_count": 8,
     "metadata": {},
     "output_type": "execute_result"
    }
   ],
   "source": [
    "host121102.redshift"
   ]
  },
  {
   "cell_type": "code",
   "execution_count": 9,
   "metadata": {},
   "outputs": [
    {
     "data": {
      "text/plain": [
       "0.19273"
      ]
     },
     "execution_count": 9,
     "metadata": {},
     "output_type": "execute_result"
    }
   ],
   "source": [
    "host121102.z"
   ]
  },
  {
   "cell_type": "markdown",
   "metadata": {},
   "source": [
    "## Photometry"
   ]
  },
  {
   "cell_type": "code",
   "execution_count": 10,
   "metadata": {},
   "outputs": [],
   "source": [
    "# None reported (directly)"
   ]
  },
  {
   "cell_type": "markdown",
   "metadata": {},
   "source": [
    "## Nebular Lines"
   ]
  },
  {
   "cell_type": "markdown",
   "metadata": {},
   "source": [
    "### Table 1 of Tengulkar+17 -- These include Galactic Extinction"
   ]
  },
  {
   "cell_type": "code",
   "execution_count": 24,
   "metadata": {},
   "outputs": [],
   "source": [
    "neb_lines = {}\n",
    "neb_lines['Ha'] = 0.652e-16\n",
    "neb_lines['Ha_err'] = 0.009e-16\n",
    "neb_lines['Ha_Al'] = 0.622\n",
    "#\n",
    "neb_lines['Hb'] = 0.118e-16\n",
    "neb_lines['Hb_err'] = 0.011e-16\n",
    "neb_lines['Hb_Al'] = 0.941\n",
    "# \n",
    "neb_lines['[OIII] 5007'] = 0.575e-16\n",
    "neb_lines['[OIII] 5007_err'] = 0.011e-16\n",
    "neb_lines['[OIII] 5007_Al'] = 0.911\n",
    "#\n",
    "neb_lines['[NII] 6583'] = 0.030e-16 #* units.erg/units.cm**2/units.s      # Upper limit\n",
    "neb_lines['[NII] 6583_err'] = -999. #* units.erg/units.cm**2/units.s\n",
    "neb_lines['[NII] 6583_Al'] = 0.619 "
   ]
  },
  {
   "cell_type": "code",
   "execution_count": 25,
   "metadata": {},
   "outputs": [],
   "source": [
    "AV = 2.42"
   ]
  },
  {
   "cell_type": "code",
   "execution_count": 29,
   "metadata": {},
   "outputs": [],
   "source": [
    "host121102.neb_lines ={}\n",
    "for key in neb_lines.keys():\n",
    "    if '_err' in key:\n",
    "        continue\n",
    "    if 'Al' in key:\n",
    "        continue\n",
    "    # Ingest\n",
    "    host121102.neb_lines[key] = neb_lines[key] * 10**(neb_lines[key+'_Al']*AV/2.5)\n",
    "    if neb_lines[key+'_err'] > 0:\n",
    "        host121102.neb_lines[key+'_err'] = neb_lines[key+'_err'] * 10**(neb_lines[key+'_Al']*AV/2.5)\n",
    "    else:\n",
    "        host121102.neb_lines[key+'_err'] = neb_lines[key+'_err']"
   ]
  },
  {
   "cell_type": "code",
   "execution_count": 30,
   "metadata": {},
   "outputs": [
    {
     "data": {
      "text/plain": [
       "{'Ha': 2.6082162461507154e-16,\n",
       " 'Ha_err': 3.600298499287797e-18,\n",
       " 'Hb': 9.611031647379592e-17,\n",
       " 'Hb_err': 8.959436281455551e-18,\n",
       " '[NII] 6583': 1.192101555659964e-17,\n",
       " '[NII] 6583_err': -999.0,\n",
       " '[OIII] 5007': 4.3804209229532963e-16,\n",
       " '[OIII] 5007_err': 8.379935678693262e-18}"
      ]
     },
     "execution_count": 30,
     "metadata": {},
     "output_type": "execute_result"
    }
   ],
   "source": [
    "host121102.neb_lines"
   ]
  },
  {
   "cell_type": "markdown",
   "metadata": {},
   "source": [
    "### Vette"
   ]
  },
  {
   "cell_type": "code",
   "execution_count": 31,
   "metadata": {},
   "outputs": [],
   "source": [
    "for key in host121102.neb_lines.keys():\n",
    "    if '_err' in key:\n",
    "        continue\n",
    "    assert key in defs.valid_neb_lines"
   ]
  },
  {
   "cell_type": "markdown",
   "metadata": {},
   "source": [
    "## Morphology"
   ]
  },
  {
   "cell_type": "markdown",
   "metadata": {},
   "source": [
    "### Values from Tendulkar+17"
   ]
  },
  {
   "cell_type": "code",
   "execution_count": 32,
   "metadata": {},
   "outputs": [],
   "source": [
    "host121102.morphology['reff_ang'] = 0.41\n",
    "host121102.morphology['reff_ang_err'] = 0.06\n",
    "#\n",
    "host121102.morphology['n'] = 2.2\n",
    "host121102.morphology['n_err'] = 1.5\n",
    "# \n",
    "host121102.morphology['b/a'] = 0.25\n",
    "host121102.morphology['b/a_err'] = 0.13"
   ]
  },
  {
   "cell_type": "code",
   "execution_count": 33,
   "metadata": {},
   "outputs": [],
   "source": [
    "for key in host121102.morphology.keys():\n",
    "    if '_err' in key:\n",
    "        continue\n",
    "    assert key in defs.valid_morphology"
   ]
  },
  {
   "cell_type": "markdown",
   "metadata": {},
   "source": [
    "## Derived"
   ]
  },
  {
   "cell_type": "code",
   "execution_count": 34,
   "metadata": {},
   "outputs": [],
   "source": [
    "host121102.derived['M_r'] = -17.0  # AB; Tendulkar+17\n",
    "host121102.derived['SFR_nebular'] = 0.23  # MSun/yr; Tendulkar+17\n",
    "host121102.derived['Mstar'] = 5.5e7 # Msun; Tendulkar+17\n",
    "host121102.derived['Mstar_err'] = 1.5e7 # Msun; Tendulkar+17"
   ]
  },
  {
   "cell_type": "markdown",
   "metadata": {},
   "source": [
    "## Write"
   ]
  },
  {
   "cell_type": "code",
   "execution_count": 35,
   "metadata": {},
   "outputs": [
    {
     "data": {
      "text/plain": [
       "'/home/xavier/Projects/FRB/frb/data/Galaxies/121102'"
      ]
     },
     "execution_count": 35,
     "metadata": {},
     "output_type": "execute_result"
    }
   ],
   "source": [
    "path = str(importlib_resources.files('frb.data.Galaxies.121102'))\n",
    "path"
   ]
  },
  {
   "cell_type": "code",
   "execution_count": 37,
   "metadata": {},
   "outputs": [],
   "source": [
    "try:\n",
    "    host121102.write_to_json(path=path, overwrite=False)\n",
    "except IOError:\n",
    "    pass"
   ]
  },
  {
   "cell_type": "code",
   "execution_count": null,
   "metadata": {},
   "outputs": [],
   "source": []
  }
 ],
 "metadata": {
  "kernelspec": {
   "display_name": "Python 3",
   "language": "python",
   "name": "python3"
  },
  "language_info": {
   "codemirror_mode": {
    "name": "ipython",
    "version": 3
   },
   "file_extension": ".py",
   "mimetype": "text/x-python",
   "name": "python",
   "nbconvert_exporter": "python",
   "pygments_lexer": "ipython3",
   "version": "3.12.1"
  }
 },
 "nbformat": 4,
 "nbformat_minor": 2
}
