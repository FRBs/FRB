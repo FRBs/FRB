{
 "cells": [
  {
   "cell_type": "code",
   "execution_count": 1,
   "id": "a1ec24bc",
   "metadata": {
    "ExecuteTime": {
     "end_time": "2022-05-27T22:31:09.810688Z",
     "start_time": "2022-05-27T22:31:07.866468Z"
    }
   },
   "outputs": [],
   "source": [
    "from frb.surveys import survey_utils as su, catalog_utils as cu\n",
    "from frb.surveys import panstarrs as ps\n",
    "from frb.frb import FRB\n",
    "\n",
    "from astropy.table import Table, join, hstack, vstack\n",
    "from astropy.coordinates import SkyCoord\n",
    "from astropy import units as u\n",
    "\n",
    "from importlib import reload"
   ]
  },
  {
   "cell_type": "markdown",
   "id": "b5443fd7",
   "metadata": {},
   "source": [
    "# Search all surveys"
   ]
  },
  {
   "cell_type": "code",
   "execution_count": 4,
   "id": "560a3e80",
   "metadata": {
    "ExecuteTime": {
     "end_time": "2022-05-27T19:20:20.807500Z",
     "start_time": "2022-05-27T19:20:20.789478Z"
    }
   },
   "outputs": [
    {
     "data": {
      "text/plain": [
       "<SkyCoord (ICRS): (ra, dec) in deg\n",
       "    (326.1052292, -40.90002778)>"
      ]
     },
     "execution_count": 4,
     "metadata": {},
     "output_type": "execute_result"
    }
   ],
   "source": [
    "frb = FRB.by_name(\"FRB20180924\") # Test case\n",
    "frb.coord"
   ]
  },
  {
   "cell_type": "code",
   "execution_count": 21,
   "id": "ebe2e630",
   "metadata": {
    "ExecuteTime": {
     "end_time": "2022-05-27T22:59:03.925652Z",
     "start_time": "2022-05-27T22:58:57.904656Z"
    }
   },
   "outputs": [
    {
     "name": "stderr",
     "output_type": "stream",
     "text": [
      "/home/sunil/anaconda3/lib/python3.7/site-packages/astroquery/sdss/core.py:865: VisibleDeprecationWarning: Reading unicode strings without specifying the encoding argument is deprecated. Set the encoding, use None for the system default.\n",
      "  comments='#'))\n",
      "/home/sunil/Python/FRB/frb/surveys/survey_utils.py:133: RuntimeWarning: Only 1 objects found in NVSS within 1'. Check location manually.\n",
      "  inside[surveyname] = is_inside(surveyname, coord)\n",
      "/home/sunil/Python/FRB/frb/surveys/survey_utils.py:133: RuntimeWarning: Only 1 objects found in WENSS within 1'. Check location manually.\n",
      "  inside[surveyname] = is_inside(surveyname, coord)\n"
     ]
    },
    {
     "data": {
      "text/plain": [
       "{'Pan-STARRS': True,\n",
       " 'WISE': True,\n",
       " 'SDSS': True,\n",
       " 'DES': False,\n",
       " 'DECaL': True,\n",
       " 'VISTA': False,\n",
       " 'NSC': True,\n",
       " 'NVSS': False,\n",
       " 'FIRST': False,\n",
       " 'WENSS': False}"
      ]
     },
     "execution_count": 21,
     "metadata": {},
     "output_type": "execute_result"
    }
   ],
   "source": [
    "coord = SkyCoord('J081240.68+320809', unit=(u.hourangle, u.deg))\n",
    "su.in_which_survey(coord,optical_only=False)"
   ]
  },
  {
   "cell_type": "code",
   "execution_count": 63,
   "id": "efc32ec3",
   "metadata": {
    "ExecuteTime": {
     "end_time": "2022-05-27T22:14:24.679395Z",
     "start_time": "2022-05-27T22:14:24.659401Z"
    }
   },
   "outputs": [
    {
     "data": {
      "text/plain": [
       "<module 'frb.surveys.survey_utils' from '/home/sunil/Python/FRB/frb/surveys/survey_utils.py'>"
      ]
     },
     "execution_count": 63,
     "metadata": {},
     "output_type": "execute_result"
    }
   ],
   "source": [
    "reload(su)"
   ]
  },
  {
   "cell_type": "code",
   "execution_count": 47,
   "id": "477dab17",
   "metadata": {
    "ExecuteTime": {
     "end_time": "2022-05-27T21:06:28.274647Z",
     "start_time": "2022-05-27T21:06:21.834117Z"
    }
   },
   "outputs": [
    {
     "name": "stdout",
     "output_type": "stream",
     "text": [
      "Empty table in Pan-STARRS\n",
      "Found 1 objects in WISE\n",
      "Empty table in SDSS\n",
      "Found 1 objects in DES\n",
      "Found 1 objects in DECaL\n",
      "Found 1 objects in VISTA\n",
      "Found 1 objects in NSC\n"
     ]
    }
   ],
   "source": [
    "radius = 5*u.arcsec # Small radius as it's known to fail when\n",
    "# merging 0 length catalogs\n",
    "combined_cat = su.search_all_surveys(frb.coord, radius=radius)"
   ]
  },
  {
   "cell_type": "code",
   "execution_count": 48,
   "id": "1d7da242",
   "metadata": {
    "ExecuteTime": {
     "end_time": "2022-05-27T21:06:36.486269Z",
     "start_time": "2022-05-27T21:06:36.453720Z"
    }
   },
   "outputs": [
    {
     "data": {
      "text/html": [
       "<div><i>Table length=1</i>\n",
       "<table id=\"table140401326654928\" class=\"table-striped table-bordered table-condensed\">\n",
       "<thead><tr><th>source_id</th><th>ra</th><th>dec</th><th>tmass_key</th><th>WISE_W1</th><th>WISE_W1_err</th><th>WISE_W2</th><th>WISE_W2_err</th><th>WISE_W3</th><th>WISE_W3_err</th><th>WISE_W4</th><th>WISE_W4_err</th><th>DES_g</th><th>DES_g_err</th><th>DES_r</th><th>DES_r_err</th><th>DES_i</th><th>DES_i_err</th><th>DES_z</th><th>DES_z_err</th><th>DES_Y</th><th>DES_Y_err</th><th>DES_ID</th><th>DES_tile</th><th>star_flag_r</th><th>star_flag_err</th><th>DECaL_ID</th><th>brick_primary</th><th>DECaL_brick</th><th>gaia_pointsource</th><th>DECaL_g</th><th>DECaL_r</th><th>DECaL_z</th><th>DECaL_g_err</th><th>DECaL_r_err</th><th>DECaL_z_err</th><th>VISTA_ID</th><th>VISTA_Y</th><th>VISTA_Y_err</th><th>VISTA_J</th><th>VISTA_J_err</th><th>VISTA_H</th><th>VISTA_H_err</th><th>VISTA_Ks</th><th>VISTA_Ks_err</th><th>NSC_ID</th><th>class_star</th><th>NSC_u</th><th>NSC_u_err</th><th>NSC_g</th><th>NSC_g_err</th><th>NSC_r</th><th>NSC_r_err</th><th>NSC_i</th><th>NSC_i_err</th><th>NSC_z</th><th>NSC_z_err</th><th>NSC_Y</th><th>NSC_Y_err</th><th>NSC_VR</th><th>NSC_VR_err</th></tr></thead>\n",
       "<thead><tr><th></th><th>deg</th><th>deg</th><th></th><th>mag</th><th>mag</th><th>mag</th><th>mag</th><th>mag</th><th>mag</th><th>mag</th><th>mag</th><th></th><th></th><th></th><th></th><th></th><th></th><th></th><th></th><th></th><th></th><th></th><th></th><th></th><th></th><th></th><th></th><th></th><th></th><th></th><th></th><th></th><th></th><th></th><th></th><th></th><th></th><th></th><th></th><th></th><th></th><th></th><th></th><th></th><th></th><th></th><th></th><th></th><th></th><th></th><th></th><th></th><th></th><th></th><th></th><th></th><th></th><th></th><th></th><th></th></tr></thead>\n",
       "<thead><tr><th>object</th><th>float64</th><th>float64</th><th>int64</th><th>float32</th><th>float32</th><th>float32</th><th>float32</th><th>float32</th><th>float32</th><th>float32</th><th>float32</th><th>float64</th><th>float64</th><th>float64</th><th>float64</th><th>float64</th><th>float64</th><th>float64</th><th>float64</th><th>float64</th><th>float64</th><th>int64</th><th>str12</th><th>float64</th><th>float64</th><th>int64</th><th>int64</th><th>int64</th><th>int64</th><th>float64</th><th>float64</th><th>float64</th><th>float64</th><th>float64</th><th>float64</th><th>int64</th><th>float64</th><th>float64</th><th>float64</th><th>float64</th><th>float64</th><th>float64</th><th>float64</th><th>float64</th><th>str11</th><th>float64</th><th>float64</th><th>float64</th><th>float64</th><th>float64</th><th>float64</th><th>float64</th><th>float64</th><th>float64</th><th>float64</th><th>float64</th><th>float64</th><th>float64</th><th>float64</th><th>float64</th></tr></thead>\n",
       "<tr><td>3263m409_ac51-031287</td><td>326.1052734</td><td>-40.9002904</td><td>-999</td><td>19.463</td><td>0.215</td><td>19.293</td><td>-999.000</td><td>16.385</td><td>-999.000</td><td>14.615</td><td>-999.000</td><td>21.459948</td><td>0.018184263</td><td>20.434868</td><td>0.009535181</td><td>20.034796</td><td>0.011742518</td><td>19.780653</td><td>0.017072726</td><td>19.671505</td><td>0.045026816</td><td>933130148</td><td>DES2143-4040</td><td>0.028991353</td><td>0.00025138148</td><td>8796100538079374</td><td>1</td><td>114683</td><td>0</td><td>21.48383</td><td>20.367268</td><td>19.58689</td><td>0.01692898616117219</td><td>0.007441419968529305</td><td>0.010642853929013851</td><td>472650415566</td><td>-999.0</td><td>-999.0</td><td>18.340307</td><td>0.106358</td><td>-999.0</td><td>-999.0</td><td>17.123121</td><td>0.173715</td><td>163023_1937</td><td>0.157755</td><td>-999.0</td><td>-999.0</td><td>21.464268</td><td>0.112522</td><td>20.486694</td><td>0.057034</td><td>20.120602</td><td>0.040907</td><td>19.859686</td><td>0.056544</td><td>19.82392</td><td>0.230932</td><td>-999.0</td><td>-999.0</td></tr>\n",
       "</table></div>"
      ],
      "text/plain": [
       "<Table length=1>\n",
       "     source_id            ra         dec     ... NSC_Y_err  NSC_VR NSC_VR_err\n",
       "                         deg         deg     ...                             \n",
       "       object          float64     float64   ...  float64  float64  float64  \n",
       "-------------------- ----------- ----------- ... --------- ------- ----------\n",
       "3263m409_ac51-031287 326.1052734 -40.9002904 ...  0.230932  -999.0     -999.0"
      ]
     },
     "execution_count": 48,
     "metadata": {},
     "output_type": "execute_result"
    }
   ],
   "source": [
    "combined_cat"
   ]
  },
  {
   "cell_type": "code",
   "execution_count": 49,
   "id": "96728b40",
   "metadata": {
    "ExecuteTime": {
     "end_time": "2022-05-27T21:15:49.075404Z",
     "start_time": "2022-05-27T21:15:49.055976Z"
    }
   },
   "outputs": [
    {
     "data": {
      "text/plain": [
       "<SkyCoord (ICRS): (ra, dec) in deg\n",
       "    (334.019875, -7.89825)>"
      ]
     },
     "execution_count": 49,
     "metadata": {},
     "output_type": "execute_result"
    }
   ],
   "source": [
    "frb = FRB.by_name(\"FRB20190608\") # Test case\n",
    "frb.coord"
   ]
  },
  {
   "cell_type": "code",
   "execution_count": 16,
   "id": "262b1298",
   "metadata": {
    "ExecuteTime": {
     "end_time": "2022-05-27T22:47:40.303269Z",
     "start_time": "2022-05-27T22:47:40.283470Z"
    }
   },
   "outputs": [
    {
     "data": {
      "text/plain": [
       "<module 'frb.surveys.survey_utils' from '/home/sunil/Python/FRB/frb/surveys/survey_utils.py'>"
      ]
     },
     "execution_count": 16,
     "metadata": {},
     "output_type": "execute_result"
    }
   ],
   "source": [
    "reload(cu)\n",
    "reload(su)"
   ]
  },
  {
   "cell_type": "code",
   "execution_count": 17,
   "id": "7c62496c",
   "metadata": {
    "ExecuteTime": {
     "end_time": "2022-05-27T22:47:47.492023Z",
     "start_time": "2022-05-27T22:47:40.780049Z"
    },
    "scrolled": false
   },
   "outputs": [
    {
     "name": "stdout",
     "output_type": "stream",
     "text": [
      "Found 1 objects in Pan-STARRS\n",
      "Found 1 objects in WISE\n",
      "Found 1 objects in SDSS\n"
     ]
    },
    {
     "name": "stderr",
     "output_type": "stream",
     "text": [
      "/home/sunil/anaconda3/lib/python3.7/site-packages/astroquery/sdss/core.py:865: VisibleDeprecationWarning: Reading unicode strings without specifying the encoding argument is deprecated. Set the encoding, use None for the system default.\n",
      "  comments='#'))\n"
     ]
    },
    {
     "name": "stdout",
     "output_type": "stream",
     "text": [
      "Empty table in DES\n",
      "> \u001b[0;32m/home/sunil/Python/FRB/frb/surveys/survey_utils.py\u001b[0m(185)\u001b[0;36msearch_all_surveys\u001b[0;34m()\u001b[0m\n",
      "\u001b[0;32m    183 \u001b[0;31m            \u001b[0;32mif\u001b[0m \u001b[0msurveyname\u001b[0m\u001b[0;34m==\u001b[0m\u001b[0;34m'DECaL'\u001b[0m\u001b[0;34m:\u001b[0m\u001b[0;34m\u001b[0m\u001b[0;34m\u001b[0m\u001b[0m\n",
      "\u001b[0m\u001b[0;32m    184 \u001b[0;31m                \u001b[0;32mimport\u001b[0m \u001b[0mpdb\u001b[0m\u001b[0;34m;\u001b[0m \u001b[0mpdb\u001b[0m\u001b[0;34m.\u001b[0m\u001b[0mset_trace\u001b[0m\u001b[0;34m(\u001b[0m\u001b[0;34m)\u001b[0m\u001b[0;34m\u001b[0m\u001b[0;34m\u001b[0m\u001b[0m\n",
      "\u001b[0m\u001b[0;32m--> 185 \u001b[0;31m            \u001b[0mprint\u001b[0m\u001b[0;34m(\u001b[0m\u001b[0;34m\"Found {:d} objects in {:s}\"\u001b[0m\u001b[0;34m.\u001b[0m\u001b[0mformat\u001b[0m\u001b[0;34m(\u001b[0m\u001b[0mlen\u001b[0m\u001b[0;34m(\u001b[0m\u001b[0msurvey\u001b[0m\u001b[0;34m.\u001b[0m\u001b[0mcatalog\u001b[0m\u001b[0;34m)\u001b[0m\u001b[0;34m,\u001b[0m \u001b[0msurveyname\u001b[0m\u001b[0;34m)\u001b[0m\u001b[0;34m)\u001b[0m\u001b[0;34m\u001b[0m\u001b[0;34m\u001b[0m\u001b[0m\n",
      "\u001b[0m\u001b[0;32m    186 \u001b[0;31m            \u001b[0;32mif\u001b[0m \u001b[0mlen\u001b[0m\u001b[0;34m(\u001b[0m\u001b[0mcombined_cat\u001b[0m\u001b[0;34m)\u001b[0m\u001b[0;34m==\u001b[0m\u001b[0;36m0\u001b[0m\u001b[0;34m:\u001b[0m\u001b[0;34m\u001b[0m\u001b[0;34m\u001b[0m\u001b[0m\n",
      "\u001b[0m\u001b[0;32m    187 \u001b[0;31m                \u001b[0;31m# First time\u001b[0m\u001b[0;34m\u001b[0m\u001b[0;34m\u001b[0m\u001b[0;34m\u001b[0m\u001b[0m\n",
      "\u001b[0m\n",
      "ipdb> c\n",
      "Found 2 objects in DECaL\n",
      "Empty table in VISTA\n",
      "Found 1 objects in NSC\n"
     ]
    }
   ],
   "source": [
    "radius = 5*u.arcsec # Small radius as it's known to fail when\n",
    "# merging 0 length catalogs\n",
    "coord = SkyCoord('J081240.68+320809', unit=(u.hourangle, u.deg))\n",
    "combined_cat = su.search_all_surveys(coord, radius=radius)"
   ]
  },
  {
   "cell_type": "code",
   "execution_count": 19,
   "id": "b4f0aca2",
   "metadata": {
    "ExecuteTime": {
     "end_time": "2022-05-27T22:50:44.671854Z",
     "start_time": "2022-05-27T22:50:44.656435Z"
    }
   },
   "outputs": [
    {
     "data": {
      "text/plain": [
       "['Pan-STARRS_ID',\n",
       " 'ra',\n",
       " 'dec',\n",
       " 'objInfoFlag',\n",
       " 'qualityFlag',\n",
       " 'rKronRad',\n",
       " 'gPSFmag',\n",
       " 'rPSFmag',\n",
       " 'iPSFmag',\n",
       " 'zPSFmag',\n",
       " 'yPSFmag',\n",
       " 'gPSFmagErr',\n",
       " 'rPSFmagErr',\n",
       " 'iPSFmagErr',\n",
       " 'zPSFmagErr',\n",
       " 'yPSFmagErr',\n",
       " 'Pan-STARRS_g',\n",
       " 'Pan-STARRS_r',\n",
       " 'Pan-STARRS_i',\n",
       " 'Pan-STARRS_z',\n",
       " 'Pan-STARRS_y',\n",
       " 'Pan-STARRS_g_err',\n",
       " 'Pan-STARRS_r_err',\n",
       " 'Pan-STARRS_i_err',\n",
       " 'Pan-STARRS_z_err',\n",
       " 'Pan-STARRS_y_err',\n",
       " 'separation_1',\n",
       " 'source_id',\n",
       " 'tmass_key',\n",
       " 'WISE_W1',\n",
       " 'WISE_W1_err',\n",
       " 'WISE_W2',\n",
       " 'WISE_W2_err',\n",
       " 'WISE_W3',\n",
       " 'WISE_W3_err',\n",
       " 'WISE_W4',\n",
       " 'WISE_W4_err',\n",
       " 'SDSS_ID',\n",
       " 'run',\n",
       " 'rerun',\n",
       " 'camcol',\n",
       " 'SDSS_field',\n",
       " 'type',\n",
       " 'SDSS_u',\n",
       " 'SDSS_g',\n",
       " 'SDSS_r',\n",
       " 'SDSS_i',\n",
       " 'SDSS_z',\n",
       " 'SDSS_u_err',\n",
       " 'SDSS_g_err',\n",
       " 'SDSS_r_err',\n",
       " 'SDSS_i_err',\n",
       " 'SDSS_z_err',\n",
       " 'extinction_u',\n",
       " 'extinction_g',\n",
       " 'extinction_r',\n",
       " 'extinction_i',\n",
       " 'extinction_z',\n",
       " 'photo_z',\n",
       " 'photo_zerr',\n",
       " 'z_spec',\n",
       " 'separation_2',\n",
       " 'DECaL_ID',\n",
       " 'brick_primary',\n",
       " 'DECaL_brick',\n",
       " 'gaia_pointsource',\n",
       " 'DECaL_g',\n",
       " 'DECaL_r',\n",
       " 'DECaL_z',\n",
       " 'DECaL_g_err',\n",
       " 'DECaL_r_err',\n",
       " 'DECaL_z_err',\n",
       " 'NSC_ID',\n",
       " 'class_star',\n",
       " 'NSC_u',\n",
       " 'NSC_u_err',\n",
       " 'NSC_g',\n",
       " 'NSC_g_err',\n",
       " 'NSC_r',\n",
       " 'NSC_r_err',\n",
       " 'NSC_i',\n",
       " 'NSC_i_err',\n",
       " 'NSC_z',\n",
       " 'NSC_z_err',\n",
       " 'NSC_Y',\n",
       " 'NSC_Y_err',\n",
       " 'NSC_VR',\n",
       " 'NSC_VR_err']"
      ]
     },
     "execution_count": 19,
     "metadata": {},
     "output_type": "execute_result"
    }
   ],
   "source": [
    "combined_cat.colnames"
   ]
  },
  {
   "cell_type": "code",
   "execution_count": 51,
   "id": "c1e64ca5",
   "metadata": {
    "ExecuteTime": {
     "end_time": "2022-05-27T21:17:33.352355Z",
     "start_time": "2022-05-27T21:17:33.317607Z"
    }
   },
   "outputs": [
    {
     "data": {
      "text/html": [
       "<div><i>Table length=1</i>\n",
       "<table id=\"table140401318239056\" class=\"table-striped table-bordered table-condensed\">\n",
       "<thead><tr><th>Pan-STARRS_ID</th><th>ra</th><th>dec</th><th>objInfoFlag</th><th>qualityFlag</th><th>rKronRad</th><th>gPSFmag</th><th>rPSFmag</th><th>iPSFmag</th><th>zPSFmag</th><th>yPSFmag</th><th>gPSFmagErr</th><th>rPSFmagErr</th><th>iPSFmagErr</th><th>zPSFmagErr</th><th>yPSFmagErr</th><th>Pan-STARRS_g</th><th>Pan-STARRS_r</th><th>Pan-STARRS_i</th><th>Pan-STARRS_z</th><th>Pan-STARRS_y</th><th>Pan-STARRS_g_err</th><th>Pan-STARRS_r_err</th><th>Pan-STARRS_i_err</th><th>Pan-STARRS_z_err</th><th>Pan-STARRS_y_err</th><th>separation_1</th><th>source_id</th><th>tmass_key</th><th>WISE_W1</th><th>WISE_W1_err</th><th>WISE_W2</th><th>WISE_W2_err</th><th>WISE_W3</th><th>WISE_W3_err</th><th>WISE_W4</th><th>WISE_W4_err</th><th>SDSS_ID</th><th>run</th><th>rerun</th><th>camcol</th><th>SDSS_field</th><th>type</th><th>SDSS_u</th><th>SDSS_g</th><th>SDSS_r</th><th>SDSS_i</th><th>SDSS_z</th><th>SDSS_u_err</th><th>SDSS_g_err</th><th>SDSS_r_err</th><th>SDSS_i_err</th><th>SDSS_z_err</th><th>extinction_u</th><th>extinction_g</th><th>extinction_r</th><th>extinction_i</th><th>extinction_z</th><th>photo_z</th><th>photo_zerr</th><th>z_spec</th><th>separation_2</th><th>DECaL_ID</th><th>brick_primary</th><th>DECaL_brick</th><th>gaia_pointsource</th><th>DECaL_g</th><th>DECaL_r</th><th>DECaL_z</th><th>DECaL_g_err</th><th>DECaL_r_err</th><th>DECaL_z_err</th><th>VISTA_ID</th><th>VISTA_Y</th><th>VISTA_Y_err</th><th>VISTA_J</th><th>VISTA_J_err</th><th>VISTA_H</th><th>VISTA_H_err</th><th>VISTA_Ks</th><th>VISTA_Ks_err</th><th>NSC_ID</th><th>class_star</th><th>NSC_u</th><th>NSC_u_err</th><th>NSC_g</th><th>NSC_g_err</th><th>NSC_r</th><th>NSC_r_err</th><th>NSC_i</th><th>NSC_i_err</th><th>NSC_z</th><th>NSC_z_err</th><th>NSC_Y</th><th>NSC_Y_err</th><th>NSC_VR</th><th>NSC_VR_err</th></tr></thead>\n",
       "<thead><tr><th></th><th></th><th></th><th></th><th></th><th></th><th></th><th></th><th></th><th></th><th></th><th></th><th></th><th></th><th></th><th></th><th></th><th></th><th></th><th></th><th></th><th></th><th></th><th></th><th></th><th></th><th>arcmin</th><th></th><th></th><th>mag</th><th>mag</th><th>mag</th><th>mag</th><th>mag</th><th>mag</th><th>mag</th><th>mag</th><th></th><th></th><th></th><th></th><th></th><th></th><th></th><th></th><th></th><th></th><th></th><th></th><th></th><th></th><th></th><th></th><th></th><th></th><th></th><th></th><th></th><th></th><th></th><th></th><th>arcmin</th><th></th><th></th><th></th><th></th><th></th><th></th><th></th><th></th><th></th><th></th><th></th><th></th><th></th><th></th><th></th><th></th><th></th><th></th><th></th><th></th><th></th><th></th><th></th><th></th><th></th><th></th><th></th><th></th><th></th><th></th><th></th><th></th><th></th><th></th><th></th></tr></thead>\n",
       "<thead><tr><th>int64</th><th>float64</th><th>float64</th><th>int64</th><th>int64</th><th>float64</th><th>float64</th><th>float64</th><th>float64</th><th>float64</th><th>float64</th><th>float64</th><th>float64</th><th>float64</th><th>float64</th><th>float64</th><th>float64</th><th>float64</th><th>float64</th><th>float64</th><th>float64</th><th>float64</th><th>float64</th><th>float64</th><th>float64</th><th>float64</th><th>float64</th><th>object</th><th>int64</th><th>float32</th><th>float32</th><th>float32</th><th>float32</th><th>float32</th><th>float32</th><th>float32</th><th>float32</th><th>int64</th><th>int64</th><th>int64</th><th>int64</th><th>int64</th><th>int64</th><th>float64</th><th>float64</th><th>float64</th><th>float64</th><th>float64</th><th>float64</th><th>float64</th><th>float64</th><th>float64</th><th>float64</th><th>float64</th><th>float64</th><th>float64</th><th>float64</th><th>float64</th><th>float64</th><th>float64</th><th>float64</th><th>float64</th><th>int64</th><th>int64</th><th>int64</th><th>int64</th><th>float64</th><th>float64</th><th>float64</th><th>float64</th><th>float64</th><th>float64</th><th>int64</th><th>float64</th><th>float64</th><th>float64</th><th>float64</th><th>float64</th><th>float64</th><th>float64</th><th>float64</th><th>str10</th><th>float64</th><th>float64</th><th>float64</th><th>float64</th><th>float64</th><th>float64</th><th>float64</th><th>float64</th><th>float64</th><th>float64</th><th>float64</th><th>float64</th><th>float64</th><th>float64</th><th>float64</th></tr></thead>\n",
       "<tr><td>98523340203911803</td><td>334.02039672</td><td>-7.89883929</td><td>512024576</td><td>61</td><td>5.023220062255859</td><td>18.886699676513672</td><td>18.541000366210938</td><td>18.252500534057617</td><td>18.191699981689453</td><td>18.050600051879883</td><td>0.005197999998927116</td><td>0.0036120000295341015</td><td>0.0019290000200271606</td><td>0.0049430001527071</td><td>0.01282500009983778</td><td>18.17020034790039</td><td>17.771099090576172</td><td>17.30900001525879</td><td>17.25279998779297</td><td>17.250699996948242</td><td>0.005785999819636345</td><td>0.004002000205218792</td><td>0.00254100002348423</td><td>0.006523000076413155</td><td>0.015869999304413795</td><td>0.047026925585301346</td><td>3340m076_ac51-018724</td><td>126405667</td><td>16.976</td><td>0.025</td><td>17.132</td><td>0.056</td><td>15.932</td><td>0.146</td><td>14.361</td><td>-999.000</td><td>1237652600644436162</td><td>1659</td><td>301</td><td>5</td><td>192</td><td>3</td><td>19.25362</td><td>18.19436</td><td>17.60164</td><td>17.19744</td><td>17.00636</td><td>0.04303542</td><td>0.008988439</td><td>0.007237832</td><td>0.007604985</td><td>0.01938821</td><td>0.1975715</td><td>0.1539464</td><td>0.1064994</td><td>0.07914045</td><td>0.05886595</td><td>0.124736</td><td>0.024996</td><td>0.1177805</td><td>0.05001655214314972</td><td>8796111748076246</td><td>1</td><td>285734</td><td>0</td><td>18.126554</td><td>17.511467</td><td>16.971535</td><td>0.0014963942429449982</td><td>0.0016311189833571492</td><td>0.0014463333843526627</td><td>473559944518</td><td>16.300243</td><td>0.021025</td><td>15.884131</td><td>0.024188</td><td>-999.0</td><td>-999.0</td><td>14.70757</td><td>0.035569</td><td>112347_431</td><td>0.029641</td><td>-999.0</td><td>-999.0</td><td>18.087496</td><td>0.011693</td><td>17.683397</td><td>0.033429</td><td>17.34375</td><td>-999.0</td><td>17.250004</td><td>0.011049</td><td>-999.0</td><td>-999.0</td><td>-999.0</td><td>-999.0</td></tr>\n",
       "</table></div>"
      ],
      "text/plain": [
       "<Table length=1>\n",
       "  Pan-STARRS_ID        ra          dec     ... NSC_Y_err  NSC_VR NSC_VR_err\n",
       "                                           ...                             \n",
       "      int64         float64      float64   ...  float64  float64  float64  \n",
       "----------------- ------------ ----------- ... --------- ------- ----------\n",
       "98523340203911803 334.02039672 -7.89883929 ...    -999.0  -999.0     -999.0"
      ]
     },
     "execution_count": 51,
     "metadata": {},
     "output_type": "execute_result"
    }
   ],
   "source": [
    "combined_cat"
   ]
  },
  {
   "cell_type": "code",
   "execution_count": 53,
   "id": "a130adce",
   "metadata": {
    "ExecuteTime": {
     "end_time": "2022-05-27T21:32:13.654615Z",
     "start_time": "2022-05-27T21:32:13.626841Z"
    }
   },
   "outputs": [
    {
     "data": {
      "text/plain": [
       "<module 'frb.surveys.panstarrs' from '/home/sunil/Python/FRB/frb/surveys/panstarrs.py'>"
      ]
     },
     "execution_count": 53,
     "metadata": {},
     "output_type": "execute_result"
    }
   ],
   "source": [
    "reload(ps)"
   ]
  },
  {
   "cell_type": "code",
   "execution_count": 55,
   "id": "d161799f",
   "metadata": {
    "ExecuteTime": {
     "end_time": "2022-05-27T22:02:25.849949Z",
     "start_time": "2022-05-27T21:58:03.910670Z"
    }
   },
   "outputs": [
    {
     "ename": "HTTPError",
     "evalue": "504 Server Error: Gateway Time-out for url: https://catalogs.mast.stsci.edu/api/v0.1/panstarrs/dr2/stack.csv?ra=334.019875&dec=-7.89825&radius=0.5&columns=objID&columns=raStack&columns=decStack&columns=objInfoFlag&columns=qualityFlag&columns=rKronRad&columns=gPSFmag&columns=rPSFmag&columns=iPSFmag&columns=zPSFmag&columns=yPSFmag&columns=gPSFmagErr&columns=rPSFmagErr&columns=iPSFmagErr&columns=zPSFmagErr&columns=yPSFmagErr&columns=gKronMag&columns=rKronMag&columns=iKronMag&columns=zKronMag&columns=yKronMag&columns=gKronMagErr&columns=rKronMagErr&columns=iKronMagErr&columns=zKronMagErr&columns=yKronMagErr",
     "output_type": "error",
     "traceback": [
      "\u001b[0;31m---------------------------------------------------------------------------\u001b[0m",
      "\u001b[0;31mHTTPError\u001b[0m                                 Traceback (most recent call last)",
      "\u001b[0;32m/tmp/ipykernel_36120/2798841780.py\u001b[0m in \u001b[0;36m<module>\u001b[0;34m\u001b[0m\n\u001b[1;32m      1\u001b[0m \u001b[0msurvey\u001b[0m \u001b[0;34m=\u001b[0m \u001b[0mps\u001b[0m\u001b[0;34m.\u001b[0m\u001b[0mPan_STARRS_Survey\u001b[0m\u001b[0;34m(\u001b[0m\u001b[0mfrb\u001b[0m\u001b[0;34m.\u001b[0m\u001b[0mcoord\u001b[0m\u001b[0;34m,\u001b[0m \u001b[0mradius\u001b[0m\u001b[0;34m=\u001b[0m\u001b[0;36m0.5\u001b[0m\u001b[0;34m*\u001b[0m\u001b[0mu\u001b[0m\u001b[0;34m.\u001b[0m\u001b[0mdeg\u001b[0m\u001b[0;34m)\u001b[0m\u001b[0;34m\u001b[0m\u001b[0;34m\u001b[0m\u001b[0m\n\u001b[0;32m----> 2\u001b[0;31m \u001b[0msurvey\u001b[0m\u001b[0;34m.\u001b[0m\u001b[0mget_catalog\u001b[0m\u001b[0;34m(\u001b[0m\u001b[0;34m)\u001b[0m\u001b[0;34m\u001b[0m\u001b[0;34m\u001b[0m\u001b[0m\n\u001b[0m",
      "\u001b[0;32m~/Python/FRB/frb/surveys/panstarrs.py\u001b[0m in \u001b[0;36mget_catalog\u001b[0;34m(self, query_fields, release, table, print_query, use_psf)\u001b[0m\n\u001b[1;32m    109\u001b[0m             \u001b[0mprint\u001b[0m\u001b[0;34m(\u001b[0m\u001b[0murl\u001b[0m\u001b[0;34m)\u001b[0m\u001b[0;34m\u001b[0m\u001b[0;34m\u001b[0m\u001b[0m\n\u001b[1;32m    110\u001b[0m         \u001b[0mret\u001b[0m \u001b[0;34m=\u001b[0m \u001b[0mrequests\u001b[0m\u001b[0;34m.\u001b[0m\u001b[0mget\u001b[0m\u001b[0;34m(\u001b[0m\u001b[0murl\u001b[0m\u001b[0;34m,\u001b[0m\u001b[0mparams\u001b[0m\u001b[0;34m=\u001b[0m\u001b[0mdata\u001b[0m\u001b[0;34m)\u001b[0m\u001b[0;34m\u001b[0m\u001b[0;34m\u001b[0m\u001b[0m\n\u001b[0;32m--> 111\u001b[0;31m         \u001b[0mret\u001b[0m\u001b[0;34m.\u001b[0m\u001b[0mraise_for_status\u001b[0m\u001b[0;34m(\u001b[0m\u001b[0;34m)\u001b[0m\u001b[0;34m\u001b[0m\u001b[0;34m\u001b[0m\u001b[0m\n\u001b[0m\u001b[1;32m    112\u001b[0m         \u001b[0;32mif\u001b[0m \u001b[0mlen\u001b[0m\u001b[0;34m(\u001b[0m\u001b[0mret\u001b[0m\u001b[0;34m.\u001b[0m\u001b[0mtext\u001b[0m\u001b[0;34m)\u001b[0m\u001b[0;34m==\u001b[0m\u001b[0;36m0\u001b[0m\u001b[0;34m:\u001b[0m\u001b[0;34m\u001b[0m\u001b[0;34m\u001b[0m\u001b[0m\n\u001b[1;32m    113\u001b[0m             \u001b[0mself\u001b[0m\u001b[0;34m.\u001b[0m\u001b[0mcatalog\u001b[0m \u001b[0;34m=\u001b[0m \u001b[0mTable\u001b[0m\u001b[0;34m(\u001b[0m\u001b[0;34m)\u001b[0m\u001b[0;34m\u001b[0m\u001b[0;34m\u001b[0m\u001b[0m\n",
      "\u001b[0;32m~/anaconda3/lib/python3.7/site-packages/requests/models.py\u001b[0m in \u001b[0;36mraise_for_status\u001b[0;34m(self)\u001b[0m\n\u001b[1;32m    958\u001b[0m \u001b[0;34m\u001b[0m\u001b[0m\n\u001b[1;32m    959\u001b[0m         \u001b[0;32mif\u001b[0m \u001b[0mhttp_error_msg\u001b[0m\u001b[0;34m:\u001b[0m\u001b[0;34m\u001b[0m\u001b[0;34m\u001b[0m\u001b[0m\n\u001b[0;32m--> 960\u001b[0;31m             \u001b[0;32mraise\u001b[0m \u001b[0mHTTPError\u001b[0m\u001b[0;34m(\u001b[0m\u001b[0mhttp_error_msg\u001b[0m\u001b[0;34m,\u001b[0m \u001b[0mresponse\u001b[0m\u001b[0;34m=\u001b[0m\u001b[0mself\u001b[0m\u001b[0;34m)\u001b[0m\u001b[0;34m\u001b[0m\u001b[0;34m\u001b[0m\u001b[0m\n\u001b[0m\u001b[1;32m    961\u001b[0m \u001b[0;34m\u001b[0m\u001b[0m\n\u001b[1;32m    962\u001b[0m     \u001b[0;32mdef\u001b[0m \u001b[0mclose\u001b[0m\u001b[0;34m(\u001b[0m\u001b[0mself\u001b[0m\u001b[0;34m)\u001b[0m\u001b[0;34m:\u001b[0m\u001b[0;34m\u001b[0m\u001b[0;34m\u001b[0m\u001b[0m\n",
      "\u001b[0;31mHTTPError\u001b[0m: 504 Server Error: Gateway Time-out for url: https://catalogs.mast.stsci.edu/api/v0.1/panstarrs/dr2/stack.csv?ra=334.019875&dec=-7.89825&radius=0.5&columns=objID&columns=raStack&columns=decStack&columns=objInfoFlag&columns=qualityFlag&columns=rKronRad&columns=gPSFmag&columns=rPSFmag&columns=iPSFmag&columns=zPSFmag&columns=yPSFmag&columns=gPSFmagErr&columns=rPSFmagErr&columns=iPSFmagErr&columns=zPSFmagErr&columns=yPSFmagErr&columns=gKronMag&columns=rKronMag&columns=iKronMag&columns=zKronMag&columns=yKronMag&columns=gKronMagErr&columns=rKronMagErr&columns=iKronMagErr&columns=zKronMagErr&columns=yKronMagErr"
     ]
    }
   ],
   "source": [
    "survey = ps.Pan_STARRS_Survey(frb.coord, radius=0.5*u.deg)\n",
    "survey.get_catalog()"
   ]
  },
  {
   "cell_type": "code",
   "execution_count": 59,
   "id": "c2064fbd",
   "metadata": {
    "ExecuteTime": {
     "end_time": "2022-05-27T22:07:17.778773Z",
     "start_time": "2022-05-27T22:07:17.752278Z"
    }
   },
   "outputs": [
    {
     "ename": "OSError",
     "evalue": "No SIMPLE card found, this file does not appear to be a valid FITS file",
     "output_type": "error",
     "traceback": [
      "\u001b[0;31m---------------------------------------------------------------------------\u001b[0m",
      "\u001b[0;31mOSError\u001b[0m                                   Traceback (most recent call last)",
      "\u001b[0;32m/tmp/ipykernel_36120/1495477457.py\u001b[0m in \u001b[0;36m<module>\u001b[0;34m\u001b[0m\n\u001b[0;32m----> 1\u001b[0;31m \u001b[0mTable\u001b[0m\u001b[0;34m.\u001b[0m\u001b[0mread\u001b[0m\u001b[0;34m(\u001b[0m\u001b[0;34m\"/home/sunil/Desktop/FRB/190714/data.dat\"\u001b[0m\u001b[0;34m,\u001b[0m \u001b[0mformat\u001b[0m\u001b[0;34m=\u001b[0m\u001b[0;34m\"fits\"\u001b[0m\u001b[0;34m)\u001b[0m\u001b[0;34m\u001b[0m\u001b[0;34m\u001b[0m\u001b[0m\n\u001b[0m",
      "\u001b[0;32m~/anaconda3/lib/python3.7/site-packages/astropy/table/connect.py\u001b[0m in \u001b[0;36m__call__\u001b[0;34m(self, *args, **kwargs)\u001b[0m\n\u001b[1;32m     59\u001b[0m         \u001b[0mdescriptions\u001b[0m \u001b[0;34m=\u001b[0m \u001b[0mkwargs\u001b[0m\u001b[0;34m.\u001b[0m\u001b[0mpop\u001b[0m\u001b[0;34m(\u001b[0m\u001b[0;34m'descriptions'\u001b[0m\u001b[0;34m,\u001b[0m \u001b[0;32mNone\u001b[0m\u001b[0;34m)\u001b[0m\u001b[0;34m\u001b[0m\u001b[0;34m\u001b[0m\u001b[0m\n\u001b[1;32m     60\u001b[0m \u001b[0;34m\u001b[0m\u001b[0m\n\u001b[0;32m---> 61\u001b[0;31m         \u001b[0mout\u001b[0m \u001b[0;34m=\u001b[0m \u001b[0mregistry\u001b[0m\u001b[0;34m.\u001b[0m\u001b[0mread\u001b[0m\u001b[0;34m(\u001b[0m\u001b[0mcls\u001b[0m\u001b[0;34m,\u001b[0m \u001b[0;34m*\u001b[0m\u001b[0margs\u001b[0m\u001b[0;34m,\u001b[0m \u001b[0;34m**\u001b[0m\u001b[0mkwargs\u001b[0m\u001b[0;34m)\u001b[0m\u001b[0;34m\u001b[0m\u001b[0;34m\u001b[0m\u001b[0m\n\u001b[0m\u001b[1;32m     62\u001b[0m \u001b[0;34m\u001b[0m\u001b[0m\n\u001b[1;32m     63\u001b[0m         \u001b[0;31m# For some readers (e.g., ascii.ecsv), the returned `out` class is not\u001b[0m\u001b[0;34m\u001b[0m\u001b[0;34m\u001b[0m\u001b[0;34m\u001b[0m\u001b[0m\n",
      "\u001b[0;32m~/anaconda3/lib/python3.7/site-packages/astropy/io/registry.py\u001b[0m in \u001b[0;36mread\u001b[0;34m(cls, format, cache, *args, **kwargs)\u001b[0m\n\u001b[1;32m    525\u001b[0m \u001b[0;34m\u001b[0m\u001b[0m\n\u001b[1;32m    526\u001b[0m         \u001b[0mreader\u001b[0m \u001b[0;34m=\u001b[0m \u001b[0mget_reader\u001b[0m\u001b[0;34m(\u001b[0m\u001b[0mformat\u001b[0m\u001b[0;34m,\u001b[0m \u001b[0mcls\u001b[0m\u001b[0;34m)\u001b[0m\u001b[0;34m\u001b[0m\u001b[0;34m\u001b[0m\u001b[0m\n\u001b[0;32m--> 527\u001b[0;31m         \u001b[0mdata\u001b[0m \u001b[0;34m=\u001b[0m \u001b[0mreader\u001b[0m\u001b[0;34m(\u001b[0m\u001b[0;34m*\u001b[0m\u001b[0margs\u001b[0m\u001b[0;34m,\u001b[0m \u001b[0;34m**\u001b[0m\u001b[0mkwargs\u001b[0m\u001b[0;34m)\u001b[0m\u001b[0;34m\u001b[0m\u001b[0;34m\u001b[0m\u001b[0m\n\u001b[0m\u001b[1;32m    528\u001b[0m \u001b[0;34m\u001b[0m\u001b[0m\n\u001b[1;32m    529\u001b[0m         \u001b[0;32mif\u001b[0m \u001b[0;32mnot\u001b[0m \u001b[0misinstance\u001b[0m\u001b[0;34m(\u001b[0m\u001b[0mdata\u001b[0m\u001b[0;34m,\u001b[0m \u001b[0mcls\u001b[0m\u001b[0;34m)\u001b[0m\u001b[0;34m:\u001b[0m\u001b[0;34m\u001b[0m\u001b[0;34m\u001b[0m\u001b[0m\n",
      "\u001b[0;32m~/anaconda3/lib/python3.7/site-packages/astropy/io/fits/connect.py\u001b[0m in \u001b[0;36mread_table_fits\u001b[0;34m(input, hdu, astropy_native, memmap, character_as_bytes)\u001b[0m\n\u001b[1;32m    222\u001b[0m \u001b[0;34m\u001b[0m\u001b[0m\n\u001b[1;32m    223\u001b[0m         hdulist = fits_open(input, character_as_bytes=character_as_bytes,\n\u001b[0;32m--> 224\u001b[0;31m                             memmap=memmap)\n\u001b[0m\u001b[1;32m    225\u001b[0m \u001b[0;34m\u001b[0m\u001b[0m\n\u001b[1;32m    226\u001b[0m         \u001b[0;32mtry\u001b[0m\u001b[0;34m:\u001b[0m\u001b[0;34m\u001b[0m\u001b[0;34m\u001b[0m\u001b[0m\n",
      "\u001b[0;32m~/anaconda3/lib/python3.7/site-packages/astropy/io/fits/hdu/hdulist.py\u001b[0m in \u001b[0;36mfitsopen\u001b[0;34m(name, mode, memmap, save_backup, cache, lazy_load_hdus, ignore_missing_simple, **kwargs)\u001b[0m\n\u001b[1;32m    172\u001b[0m \u001b[0;34m\u001b[0m\u001b[0m\n\u001b[1;32m    173\u001b[0m     return HDUList.fromfile(name, mode, memmap, save_backup, cache,\n\u001b[0;32m--> 174\u001b[0;31m                             lazy_load_hdus, ignore_missing_simple, **kwargs)\n\u001b[0m\u001b[1;32m    175\u001b[0m \u001b[0;34m\u001b[0m\u001b[0m\n\u001b[1;32m    176\u001b[0m \u001b[0;34m\u001b[0m\u001b[0m\n",
      "\u001b[0;32m~/anaconda3/lib/python3.7/site-packages/astropy/io/fits/hdu/hdulist.py\u001b[0m in \u001b[0;36mfromfile\u001b[0;34m(cls, fileobj, mode, memmap, save_backup, cache, lazy_load_hdus, ignore_missing_simple, **kwargs)\u001b[0m\n\u001b[1;32m    409\u001b[0m                              \u001b[0msave_backup\u001b[0m\u001b[0;34m=\u001b[0m\u001b[0msave_backup\u001b[0m\u001b[0;34m,\u001b[0m \u001b[0mcache\u001b[0m\u001b[0;34m=\u001b[0m\u001b[0mcache\u001b[0m\u001b[0;34m,\u001b[0m\u001b[0;34m\u001b[0m\u001b[0;34m\u001b[0m\u001b[0m\n\u001b[1;32m    410\u001b[0m                              \u001b[0mignore_missing_simple\u001b[0m\u001b[0;34m=\u001b[0m\u001b[0mignore_missing_simple\u001b[0m\u001b[0;34m,\u001b[0m\u001b[0;34m\u001b[0m\u001b[0;34m\u001b[0m\u001b[0m\n\u001b[0;32m--> 411\u001b[0;31m                              lazy_load_hdus=lazy_load_hdus, **kwargs)\n\u001b[0m\u001b[1;32m    412\u001b[0m \u001b[0;34m\u001b[0m\u001b[0m\n\u001b[1;32m    413\u001b[0m     \u001b[0;34m@\u001b[0m\u001b[0mclassmethod\u001b[0m\u001b[0;34m\u001b[0m\u001b[0;34m\u001b[0m\u001b[0m\n",
      "\u001b[0;32m~/anaconda3/lib/python3.7/site-packages/astropy/io/fits/hdu/hdulist.py\u001b[0m in \u001b[0;36m_readfrom\u001b[0;34m(cls, fileobj, data, mode, memmap, cache, lazy_load_hdus, ignore_missing_simple, **kwargs)\u001b[0m\n\u001b[1;32m   1088\u001b[0m                 \u001b[0;32mif\u001b[0m \u001b[0mhdulist\u001b[0m\u001b[0;34m.\u001b[0m\u001b[0m_file\u001b[0m\u001b[0;34m.\u001b[0m\u001b[0mclose_on_error\u001b[0m\u001b[0;34m:\u001b[0m\u001b[0;34m\u001b[0m\u001b[0;34m\u001b[0m\u001b[0m\n\u001b[1;32m   1089\u001b[0m                     \u001b[0mhdulist\u001b[0m\u001b[0;34m.\u001b[0m\u001b[0m_file\u001b[0m\u001b[0;34m.\u001b[0m\u001b[0mclose\u001b[0m\u001b[0;34m(\u001b[0m\u001b[0;34m)\u001b[0m\u001b[0;34m\u001b[0m\u001b[0;34m\u001b[0m\u001b[0m\n\u001b[0;32m-> 1090\u001b[0;31m                 raise OSError('No SIMPLE card found, this file does not '\n\u001b[0m\u001b[1;32m   1091\u001b[0m                               'appear to be a valid FITS file')\n\u001b[1;32m   1092\u001b[0m \u001b[0;34m\u001b[0m\u001b[0m\n",
      "\u001b[0;31mOSError\u001b[0m: No SIMPLE card found, this file does not appear to be a valid FITS file"
     ]
    }
   ],
   "source": [
    "Table.read(\"/home/sunil/Desktop/FRB/190714/data.dat\", format=\"fits\")"
   ]
  },
  {
   "cell_type": "code",
   "execution_count": null,
   "id": "ad0972ff",
   "metadata": {},
   "outputs": [],
   "source": []
  }
 ],
 "metadata": {
  "kernelspec": {
   "display_name": "Python 3 (ipykernel)",
   "language": "python",
   "name": "python3"
  },
  "language_info": {
   "codemirror_mode": {
    "name": "ipython",
    "version": 3
   },
   "file_extension": ".py",
   "mimetype": "text/x-python",
   "name": "python",
   "nbconvert_exporter": "python",
   "pygments_lexer": "ipython3",
   "version": "3.7.11"
  },
  "latex_envs": {
   "LaTeX_envs_menu_present": true,
   "autoclose": false,
   "autocomplete": true,
   "bibliofile": "biblio.bib",
   "cite_by": "apalike",
   "current_citInitial": 1,
   "eqLabelWithNumbers": true,
   "eqNumInitial": 1,
   "hotkeys": {
    "equation": "Ctrl-E",
    "itemize": "Ctrl-I"
   },
   "labels_anchors": false,
   "latex_user_defs": false,
   "report_style_numbering": false,
   "user_envs_cfg": false
  }
 },
 "nbformat": 4,
 "nbformat_minor": 5
}
