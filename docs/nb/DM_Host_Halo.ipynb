{
 "cells": [
  {
   "cell_type": "markdown",
   "metadata": {},
   "source": [
    "# Method to Estiamte DM_Host_Halo"
   ]
  },
  {
   "cell_type": "code",
   "execution_count": 14,
   "metadata": {},
   "outputs": [
    {
     "name": "stderr",
     "output_type": "stream",
     "text": [
      "/home/xavier/Projects/FRB/FRB/frb/dm/host.py:13: UserWarning: extinction package not loaded.  Extinction corrections will fail\n",
      "  warnings.warn(\"extinction package not loaded.  Extinction corrections will fail\")\n"
     ]
    }
   ],
   "source": [
    "# import\n",
    "from importlib import reload\n",
    "import numpy as np\n",
    "\n",
    "from astropy import units\n",
    "from astropy.cosmology import Planck15 as cosmo\n",
    "from astropy.coordinates import SkyCoord\n",
    "\n",
    "from frb import halos\n",
    "from frb.frb import FRB\n",
    "from frb.halos import models\n",
    "from frb.dm import host as dm_host"
   ]
  },
  {
   "cell_type": "markdown",
   "metadata": {},
   "source": [
    "# Throughout, let's use FRB20180924B as our poster child"
   ]
  },
  {
   "cell_type": "code",
   "execution_count": 2,
   "metadata": {},
   "outputs": [
    {
     "data": {
      "text/plain": [
       "<FRBHost: 21:44:25.256 -40:54:00.8, FRB=FRB20180924B z=0.3212>"
      ]
     },
     "execution_count": 2,
     "metadata": {},
     "output_type": "execute_result"
    }
   ],
   "source": [
    "frb180924 = FRB.by_name('FRB20180924B')\n",
    "host = frb180924.grab_host()\n",
    "host"
   ]
  },
  {
   "cell_type": "code",
   "execution_count": 3,
   "metadata": {},
   "outputs": [
    {
     "data": {
      "text/plain": [
       "<FRB: FRB20180924B J214425.255008-405400.100008 DM=362.16 pc / cm3 z=0.3212>"
      ]
     },
     "execution_count": 3,
     "metadata": {},
     "output_type": "execute_result"
    }
   ],
   "source": [
    "frb180924"
   ]
  },
  {
   "cell_type": "markdown",
   "metadata": {},
   "source": [
    "# From Stellar mass, Impact Parameter, and redshift"
   ]
  },
  {
   "cell_type": "markdown",
   "metadata": {},
   "source": [
    "## Halo mass"
   ]
  },
  {
   "cell_type": "code",
   "execution_count": 4,
   "metadata": {},
   "outputs": [
    {
     "data": {
      "text/plain": [
       "np.float64(10.39000000000265)"
      ]
     },
     "execution_count": 4,
     "metadata": {},
     "output_type": "execute_result"
    }
   ],
   "source": [
    "Mstar = host.derived['Mstar']\n",
    "log10_Mstar = np.log10(Mstar)\n",
    "log10_Mstar"
   ]
  },
  {
   "cell_type": "markdown",
   "metadata": {},
   "source": [
    "### Moster"
   ]
  },
  {
   "cell_type": "code",
   "execution_count": 5,
   "metadata": {},
   "outputs": [
    {
     "data": {
      "text/plain": [
       "np.float64(11.91838636203334)"
      ]
     },
     "execution_count": 5,
     "metadata": {},
     "output_type": "execute_result"
    }
   ],
   "source": [
    "log_Mhalo_Moster = models.halomass_from_stellarmass(log10_Mstar, z=frb180924.z)\n",
    "log_Mhalo_Moster"
   ]
  },
  {
   "cell_type": "markdown",
   "metadata": {},
   "source": [
    "### Kravstov"
   ]
  },
  {
   "cell_type": "code",
   "execution_count": 6,
   "metadata": {},
   "outputs": [
    {
     "data": {
      "text/plain": [
       "np.float64(11.763812349097353)"
      ]
     },
     "execution_count": 6,
     "metadata": {},
     "output_type": "execute_result"
    }
   ],
   "source": [
    "log_Mhalo_K = models.halomass_from_stellarmass_kravtsov(log10_Mstar)\n",
    "log_Mhalo_K"
   ]
  },
  {
   "cell_type": "markdown",
   "metadata": {},
   "source": [
    "## Impact Parameter"
   ]
  },
  {
   "cell_type": "code",
   "execution_count": 7,
   "metadata": {},
   "outputs": [
    {
     "data": {
      "text/latex": [
       "$3.3714861 \\; \\mathrm{kpc}$"
      ],
      "text/plain": [
       "<Quantity 3.37148607 kpc>"
      ]
     },
     "execution_count": 7,
     "metadata": {},
     "output_type": "execute_result"
    }
   ],
   "source": [
    "R = host.offsets['physical'] * units.kpc\n",
    "R"
   ]
  },
  {
   "cell_type": "markdown",
   "metadata": {},
   "source": [
    "## Modified NFW"
   ]
  },
  {
   "cell_type": "code",
   "execution_count": 12,
   "metadata": {},
   "outputs": [
    {
     "data": {
      "text/plain": [
       "<ModifiedNFW: alpha=2.00 y0=2.00 logM=11.92, r200=205.273 kpc>"
      ]
     },
     "execution_count": 12,
     "metadata": {},
     "output_type": "execute_result"
    }
   ],
   "source": [
    "mNFW = models.ModifiedNFW(log_Mhalo=log_Mhalo_Moster, z=frb180924.z, alpha=2., y0=2., f_hot=0.55)\n",
    "mNFW"
   ]
  },
  {
   "cell_type": "markdown",
   "metadata": {},
   "source": [
    "## And here we are:"
   ]
  },
  {
   "cell_type": "code",
   "execution_count": 13,
   "metadata": {},
   "outputs": [
    {
     "data": {
      "text/latex": [
       "$35.455294 \\; \\mathrm{\\frac{pc}{cm^{3}}}$"
      ],
      "text/plain": [
       "<Quantity 35.45529412 pc / cm3>"
      ]
     },
     "execution_count": 13,
     "metadata": {},
     "output_type": "execute_result"
    }
   ],
   "source": [
    "DM_host_halo = mNFW.Ne_Rperp(R) / 2\n",
    "DM_host_halo"
   ]
  },
  {
   "cell_type": "markdown",
   "metadata": {},
   "source": [
    "----"
   ]
  },
  {
   "cell_type": "markdown",
   "metadata": {},
   "source": [
    "# Now in a tidy method"
   ]
  },
  {
   "cell_type": "code",
   "execution_count": 17,
   "metadata": {},
   "outputs": [
    {
     "data": {
      "text/latex": [
       "$35.455294 \\; \\mathrm{\\frac{pc}{cm^{3}}}$"
      ],
      "text/plain": [
       "<Quantity 35.45529412 pc / cm3>"
      ]
     },
     "execution_count": 17,
     "metadata": {},
     "output_type": "execute_result"
    }
   ],
   "source": [
    "DM_host_halo2 = dm_host.dm_host_halo(R, log10_Mstar, frb180924.z)\n",
    "DM_host_halo2"
   ]
  },
  {
   "cell_type": "code",
   "execution_count": null,
   "metadata": {},
   "outputs": [],
   "source": []
  }
 ],
 "metadata": {
  "kernelspec": {
   "display_name": "Python 3 (ipykernel)",
   "language": "python",
   "name": "python3"
  },
  "language_info": {
   "codemirror_mode": {
    "name": "ipython",
    "version": 3
   },
   "file_extension": ".py",
   "mimetype": "text/x-python",
   "name": "python",
   "nbconvert_exporter": "python",
   "pygments_lexer": "ipython3",
   "version": "3.12.7"
  }
 },
 "nbformat": 4,
 "nbformat_minor": 4
}
