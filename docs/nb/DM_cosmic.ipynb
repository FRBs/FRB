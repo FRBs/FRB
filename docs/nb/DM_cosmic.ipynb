{
 "cells": [
  {
   "cell_type": "markdown",
   "metadata": {},
   "source": [
    "# Calculations related to the DM IGM [v2]\n",
    "    v1 -- These were presented in Macquart+2020 (more or less)\n",
    "    v2 -- A few updates"
   ]
  },
  {
   "cell_type": "code",
   "execution_count": 35,
   "metadata": {},
   "outputs": [],
   "source": [
    "#%matplotlib notebook"
   ]
  },
  {
   "cell_type": "code",
   "execution_count": 36,
   "metadata": {},
   "outputs": [],
   "source": [
    "# imports\n",
    "from importlib import reload\n",
    "\n",
    "from matplotlib import pyplot as plt\n",
    "\n",
    "from frb.dm import igm"
   ]
  },
  {
   "cell_type": "markdown",
   "metadata": {},
   "source": [
    "## DM -- Piece by piece (as coded)"
   ]
  },
  {
   "cell_type": "markdown",
   "metadata": {},
   "source": [
    "### $\\rho_b = \\Omega_b \\rho_c (1+z)^3$"
   ]
  },
  {
   "cell_type": "markdown",
   "metadata": {},
   "source": [
    "### $\\rho_{\\rm diffuse} = \\rho_b - (\\rho_* + \\rho_{\\rm ISM})$\n",
    "\n",
    "\n",
    "#### $\\rho_*$ is the mass density in stars\n",
    "\n",
    "#### $\\rho_{\\rm ISM}$ is the mass density in the neutral ISM"
   ]
  },
  {
   "cell_type": "markdown",
   "metadata": {},
   "source": [
    "### Number densities\n",
    "\n",
    "### $n_{\\rm H} = \\rho_{\\rm diffuse}/(m_p \\, \\mu)$\n",
    "\n",
    "#### $\\mu \\approx 1.3$ accounts for Helium\n",
    "\n",
    "### $n_{\\rm He} = n_{\\rm H}/12$"
   ]
  },
  {
   "cell_type": "markdown",
   "metadata": {},
   "source": [
    "### $n_e = n_{\\rm H} [1-f_{\\rm HI}] + n_{\\rm He} Y$\n",
    "\n",
    "#### $f_{\\rm HI}$ is the fraction atomic Hydrogen [value betwee 0-1]\n",
    "\n",
    "#### $Y$ gives the number of free electrons per He nucleus  [value between 0-2]"
   ]
  },
  {
   "cell_type": "markdown",
   "metadata": {},
   "source": [
    "### Integrating\n",
    "\n",
    "### $DM = \\int \\frac{n_e \\, dr}{1+z} = \\frac{c}{H_0} \\int \\frac{n_e \\, dz}{(1+z)^2 \\sqrt{(1+z)^3 \\Omega_m + \n",
    "                                                                                 \\Omega_\\Lambda}}$"
   ]
  },
  {
   "cell_type": "markdown",
   "metadata": {},
   "source": [
    "## DM -- Altogether (using the code)"
   ]
  },
  {
   "cell_type": "code",
   "execution_count": 37,
   "metadata": {},
   "outputs": [
    {
     "data": {
      "text/latex": [
       "$921.99889 \\; \\mathrm{\\frac{pc}{cm^{3}}}$"
      ],
      "text/plain": [
       "<Quantity 921.9988935 pc / cm3>"
      ]
     },
     "execution_count": 37,
     "metadata": {},
     "output_type": "execute_result"
    }
   ],
   "source": [
    "reload(igm)\n",
    "DM = igm.average_DM(1.)\n",
    "DM"
   ]
  },
  {
   "cell_type": "markdown",
   "metadata": {},
   "source": [
    "### Cumulative plot"
   ]
  },
  {
   "cell_type": "code",
   "execution_count": 38,
   "metadata": {},
   "outputs": [],
   "source": [
    "DM_cumul, zeval = igm.average_DM(1., cumul=True)"
   ]
  },
  {
   "cell_type": "code",
   "execution_count": 39,
   "metadata": {},
   "outputs": [],
   "source": [
    "# Inoue approximation\n",
    "DM_approx = 1000. * zeval * units.pc / units.cm**3"
   ]
  },
  {
   "cell_type": "code",
   "execution_count": 40,
   "metadata": {},
   "outputs": [
    {
     "data": {
      "image/png": "[encoded data removed]",
      "text/plain": [
       "<Figure size 432x288 with 1 Axes>"
      ]
     },
     "metadata": {
      "needs_background": "light"
     },
     "output_type": "display_data"
    }
   ],
   "source": [
    "plt.clf()\n",
    "ax = plt.gca()\n",
    "ax.plot(zeval, DM_cumul, label='JXP')\n",
    "ax.plot(zeval, DM_approx, label='Approx')\n",
    "# Label\n",
    "ax.set_xlabel('z')\n",
    "ax.set_ylabel(r'${\\rm DM}_{\\rm IGM} [\\rm pc / cm^3]$ ')\n",
    "# Legend\n",
    "legend = plt.legend(loc='lower right', scatterpoints=1, borderpad=0.2,\n",
    "                       handletextpad=0.1, fontsize='large')\n",
    "plt.show()"
   ]
  },
  {
   "cell_type": "code",
   "execution_count": 41,
   "metadata": {},
   "outputs": [
    {
     "data": {
      "image/png": "[encoded data removed]",
      "text/plain": [
       "<Figure size 432x288 with 1 Axes>"
      ]
     },
     "metadata": {
      "needs_background": "light"
     },
     "output_type": "display_data"
    }
   ],
   "source": [
    "plt.clf()\n",
    "ax = plt.gca()\n",
    "ax.plot(zeval, DM_approx/DM_cumul, label='Approx/JXP')\n",
    "#ax.plot(zeval, DM_approx, label='Approx')\n",
    "# Label\n",
    "ax.set_xlabel('z')\n",
    "ax.set_ylabel(r'Ratio of ${\\rm DM}_{\\rm IGM} [\\rm pc / cm^3]$ ')\n",
    "# Legend\n",
    "legend = plt.legend(loc='upper right', scatterpoints=1, borderpad=0.2,\n",
    "                       handletextpad=0.1, fontsize='large')\n",
    "plt.show()"
   ]
  },
  {
   "cell_type": "code",
   "execution_count": 42,
   "metadata": {},
   "outputs": [
    {
     "data": {
      "text/latex": [
       "$[0.081784485,~0.16357399,~0.24536851,~0.32716805,~0.40897261,~0.49078218,~0.57259677,~0.65441636,~0.73624097,~0.81807058] \\; \\mathrm{\\frac{pc}{cm^{3}}}$"
      ],
      "text/plain": [
       "<Quantity [0.08178449, 0.16357399, 0.24536851, 0.32716805, 0.40897261,\n",
       "           0.49078218, 0.57259677, 0.65441636, 0.73624097, 0.81807058] pc / cm3>"
      ]
     },
     "execution_count": 42,
     "metadata": {},
     "output_type": "execute_result"
    }
   ],
   "source": [
    "DM_cumul[0:10]"
   ]
  },
  {
   "cell_type": "code",
   "execution_count": 43,
   "metadata": {},
   "outputs": [
    {
     "data": {
      "text/latex": [
       "$[0,~0.10001,~0.20002,~0.30003,~0.40004,~0.50005001,~0.60006001,~0.70007001,~0.80008001,~0.90009001] \\; \\mathrm{\\frac{pc}{cm^{3}}}$"
      ],
      "text/plain": [
       "<Quantity [0.        , 0.10001   , 0.20002   , 0.30003   , 0.40004   ,\n",
       "           0.50005001, 0.60006001, 0.70007001, 0.80008001, 0.90009001] pc / cm3>"
      ]
     },
     "execution_count": 43,
     "metadata": {},
     "output_type": "execute_result"
    }
   ],
   "source": [
    "DM_approx[0:10]"
   ]
  },
  {
   "cell_type": "code",
   "execution_count": 44,
   "metadata": {},
   "outputs": [
    {
     "data": {
      "text/plain": [
       "0.0"
      ]
     },
     "execution_count": 44,
     "metadata": {},
     "output_type": "execute_result"
    }
   ],
   "source": [
    "zeval[0]"
   ]
  },
  {
   "cell_type": "markdown",
   "metadata": {},
   "source": [
    "----"
   ]
  },
  {
   "cell_type": "markdown",
   "metadata": {},
   "source": [
    "## Development"
   ]
  }
 ],
 "metadata": {
  "kernelspec": {
   "display_name": "Python 3",
   "language": "python",
   "name": "python3"
  },
  "language_info": {
   "codemirror_mode": {
    "name": "ipython",
    "version": 3
   },
   "file_extension": ".py",
   "mimetype": "text/x-python",
   "name": "python",
   "nbconvert_exporter": "python",
   "pygments_lexer": "ipython3",
   "version": "3.7.6"
  }
 },
 "nbformat": 4,
 "nbformat_minor": 2
}
