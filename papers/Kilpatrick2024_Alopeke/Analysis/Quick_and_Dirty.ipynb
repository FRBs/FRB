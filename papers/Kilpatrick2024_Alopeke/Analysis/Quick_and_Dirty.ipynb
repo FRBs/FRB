{
 "cells": [
  {
   "cell_type": "markdown",
   "metadata": {},
   "source": [
    "# Quick and Dirty"
   ]
  },
  {
   "cell_type": "code",
   "execution_count": 30,
   "metadata": {},
   "outputs": [],
   "source": [
    "# imports\n",
    "import numpy as np\n",
    "\n",
    "from astropy import units\n",
    "from astropy import constants"
   ]
  },
  {
   "cell_type": "code",
   "execution_count": 13,
   "metadata": {},
   "outputs": [],
   "source": [
    "def flux_from_m(m):\n",
    "    f_nu = 10**((8.9-m)/2.5) * units.Jy\n",
    "    return f_nu"
   ]
  },
  {
   "cell_type": "markdown",
   "metadata": {},
   "source": [
    "# Numbers from NT"
   ]
  },
  {
   "cell_type": "code",
   "execution_count": 8,
   "metadata": {},
   "outputs": [],
   "source": [
    "exp_time = 0.010418 # s"
   ]
  },
  {
   "cell_type": "code",
   "execution_count": 24,
   "metadata": {},
   "outputs": [],
   "source": [
    "star_i = 163866.09 # counts / s\n",
    "star_i_err = 6863.84 \n",
    "frb_i = 8626.39 \n",
    "frb_i_err = 1387.42\n",
    "#\n",
    "star_r = 105084.78\n",
    "star_r_err = 5508.96 \n",
    "frb_r = 7730.56 \n",
    "frb_r_err = 1316.59"
   ]
  },
  {
   "cell_type": "markdown",
   "metadata": {},
   "source": [
    "## Magnitudes -- Assuming AB"
   ]
  },
  {
   "cell_type": "code",
   "execution_count": 3,
   "metadata": {},
   "outputs": [],
   "source": [
    "star_r_mag = 15.75\n",
    "star_i_mag = 15.14"
   ]
  },
  {
   "cell_type": "markdown",
   "metadata": {},
   "source": [
    "# Zero points"
   ]
  },
  {
   "cell_type": "code",
   "execution_count": 23,
   "metadata": {},
   "outputs": [
    {
     "data": {
      "text/plain": [
       "(28.303849548380075, 28.176222727892828)"
      ]
     },
     "execution_count": 23,
     "metadata": {},
     "output_type": "execute_result"
    }
   ],
   "source": [
    "ZP_r = star_r_mag + 2.5*np.log10(star_r)#/exp_time)\n",
    "ZP_i = star_i_mag + 2.5*np.log10(star_i)#/exp_time)\n",
    "#\n",
    "ZP_r, ZP_i"
   ]
  },
  {
   "cell_type": "markdown",
   "metadata": {},
   "source": [
    "# Flux at FRB location"
   ]
  },
  {
   "cell_type": "code",
   "execution_count": 25,
   "metadata": {},
   "outputs": [
    {
     "data": {
      "text/plain": [
       "18.583322160252827"
      ]
     },
     "execution_count": 25,
     "metadata": {},
     "output_type": "execute_result"
    }
   ],
   "source": [
    "frb_r_mag = ZP_r - 2.5*np.log10(frb_r) # /exp_time)\n",
    "frb_r_mag"
   ]
  },
  {
   "cell_type": "code",
   "execution_count": 15,
   "metadata": {},
   "outputs": [
    {
     "data": {
      "text/latex": [
       "$0.13386626 \\; \\mathrm{mJy}$"
      ],
      "text/plain": [
       "<Quantity 0.13386626 mJy>"
      ]
     },
     "execution_count": 15,
     "metadata": {},
     "output_type": "execute_result"
    }
   ],
   "source": [
    "frb_r_nu = flux_from_m(frb_r_mag)\n",
    "frb_r_nu.to('mJy')"
   ]
  },
  {
   "cell_type": "markdown",
   "metadata": {},
   "source": [
    "## $i$-band"
   ]
  },
  {
   "cell_type": "code",
   "execution_count": 34,
   "metadata": {},
   "outputs": [
    {
     "data": {
      "text/plain": [
       "18.336650006010252"
      ]
     },
     "execution_count": 34,
     "metadata": {},
     "output_type": "execute_result"
    }
   ],
   "source": [
    "frb_i_mag = ZP_i - 2.5*np.log10(frb_i) # /exp_time)\n",
    "frb_i_mag"
   ]
  },
  {
   "cell_type": "code",
   "execution_count": 35,
   "metadata": {},
   "outputs": [
    {
     "data": {
      "text/latex": [
       "$0.16801188 \\; \\mathrm{mJy}$"
      ],
      "text/plain": [
       "<Quantity 0.16801188 mJy>"
      ]
     },
     "execution_count": 35,
     "metadata": {},
     "output_type": "execute_result"
    }
   ],
   "source": [
    "frb_i_nu = flux_from_m(frb_i_mag)\n",
    "frb_i_nu.to('mJy')"
   ]
  },
  {
   "cell_type": "markdown",
   "metadata": {},
   "source": [
    "# Limits"
   ]
  },
  {
   "cell_type": "code",
   "execution_count": 20,
   "metadata": {},
   "outputs": [
    {
     "data": {
      "text/latex": [
       "$0.068396202 \\; \\mathrm{mJy}$"
      ],
      "text/plain": [
       "<Quantity 0.0683962 mJy>"
      ]
     },
     "execution_count": 20,
     "metadata": {},
     "output_type": "execute_result"
    }
   ],
   "source": [
    "lim_3sig_r = frb_r_nu * (frb_r_err/frb_r) * 3\n",
    "lim_3sig_r.to('mJy')"
   ]
  },
  {
   "cell_type": "code",
   "execution_count": 19,
   "metadata": {},
   "outputs": [
    {
     "data": {
      "text/latex": [
       "$0.11399367 \\; \\mathrm{mJy}$"
      ],
      "text/plain": [
       "<Quantity 0.11399367 mJy>"
      ]
     },
     "execution_count": 19,
     "metadata": {},
     "output_type": "execute_result"
    }
   ],
   "source": [
    "lim_5sig_r = frb_r_nu * (frb_r_err/frb_r) * 5\n",
    "lim_5sig_r.to('mJy')"
   ]
  },
  {
   "cell_type": "code",
   "execution_count": 36,
   "metadata": {},
   "outputs": [
    {
     "data": {
      "text/latex": [
       "$0.081066256 \\; \\mathrm{mJy}$"
      ],
      "text/plain": [
       "<Quantity 0.08106626 mJy>"
      ]
     },
     "execution_count": 36,
     "metadata": {},
     "output_type": "execute_result"
    }
   ],
   "source": [
    "lim_3sig_i = frb_i_nu * (frb_i_err/frb_i) * 3\n",
    "lim_3sig_i.to('mJy')"
   ]
  },
  {
   "cell_type": "markdown",
   "metadata": {},
   "source": [
    "## Fluence"
   ]
  },
  {
   "cell_type": "code",
   "execution_count": 22,
   "metadata": {},
   "outputs": [
    {
     "data": {
      "text/latex": [
       "$0.0011875861 \\; \\mathrm{Jy\\,ms}$"
      ],
      "text/plain": [
       "<Quantity 0.00118759 Jy ms>"
      ]
     },
     "execution_count": 22,
     "metadata": {},
     "output_type": "execute_result"
    }
   ],
   "source": [
    "fluence_5sig_r = lim_5sig_r * (exp_time*units.s)\n",
    "fluence_5sig_r.to('Jy ms')"
   ]
  },
  {
   "cell_type": "code",
   "execution_count": 26,
   "metadata": {},
   "outputs": [
    {
     "data": {
      "text/latex": [
       "$0.00071255163 \\; \\mathrm{Jy\\,ms}$"
      ],
      "text/plain": [
       "<Quantity 0.00071255 Jy ms>"
      ]
     },
     "execution_count": 26,
     "metadata": {},
     "output_type": "execute_result"
    }
   ],
   "source": [
    "fluence_3sig_r = lim_3sig_r * (exp_time*units.s)\n",
    "fluence_3sig_r.to('Jy ms')"
   ]
  },
  {
   "cell_type": "code",
   "execution_count": 37,
   "metadata": {},
   "outputs": [
    {
     "data": {
      "text/latex": [
       "$0.00084454825 \\; \\mathrm{Jy\\,ms}$"
      ],
      "text/plain": [
       "<Quantity 0.00084455 Jy ms>"
      ]
     },
     "execution_count": 37,
     "metadata": {},
     "output_type": "execute_result"
    }
   ],
   "source": [
    "fluence_3sig_i = lim_3sig_i * (exp_time*units.s)\n",
    "fluence_3sig_i.to('Jy ms')"
   ]
  },
  {
   "cell_type": "markdown",
   "metadata": {},
   "source": [
    "## FRB fluence"
   ]
  },
  {
   "cell_type": "code",
   "execution_count": 32,
   "metadata": {},
   "outputs": [
    {
     "data": {
      "text/latex": [
       "$4.2827494 \\times 10^{14} \\; \\mathrm{Hz}$"
      ],
      "text/plain": [
       "<Quantity 4.2827494e+14 Hz>"
      ]
     },
     "execution_count": 32,
     "metadata": {},
     "output_type": "execute_result"
    }
   ],
   "source": [
    "nu_r = constants.c / (700*units.nm)\n",
    "nu_r.to('Hz')"
   ]
  },
  {
   "cell_type": "code",
   "execution_count": 39,
   "metadata": {},
   "outputs": [
    {
     "data": {
      "text/latex": [
       "$3.5269701 \\times 10^{14} \\; \\mathrm{Hz}$"
      ],
      "text/plain": [
       "<Quantity 3.52697009e+14 Hz>"
      ]
     },
     "execution_count": 39,
     "metadata": {},
     "output_type": "execute_result"
    }
   ],
   "source": [
    "nu_i = constants.c / (850*units.nm)\n",
    "nu_i.to('Hz')"
   ]
  },
  {
   "cell_type": "code",
   "execution_count": 27,
   "metadata": {},
   "outputs": [],
   "source": [
    "frb_fluence = 4.4 * units.Jy * units.ms"
   ]
  },
  {
   "cell_type": "code",
   "execution_count": 33,
   "metadata": {},
   "outputs": [
    {
     "data": {
      "text/latex": [
       "$69.356366 \\; \\mathrm{}$"
      ],
      "text/plain": [
       "<Quantity 69.35636557>"
      ]
     },
     "execution_count": 33,
     "metadata": {},
     "output_type": "execute_result"
    }
   ],
   "source": [
    "eta_r = fluence_3sig_r * nu_r / (frb_fluence * 1*units.GHz)\n",
    "eta_r.to('')"
   ]
  },
  {
   "cell_type": "markdown",
   "metadata": {},
   "source": [
    "## $i$-band"
   ]
  },
  {
   "cell_type": "code",
   "execution_count": 40,
   "metadata": {},
   "outputs": [
    {
     "data": {
      "text/latex": [
       "$67.697646 \\; \\mathrm{}$"
      ],
      "text/plain": [
       "<Quantity 67.69764608>"
      ]
     },
     "execution_count": 40,
     "metadata": {},
     "output_type": "execute_result"
    }
   ],
   "source": [
    "eta_i = fluence_3sig_i * nu_i / (frb_fluence * 1*units.GHz)\n",
    "eta_i.to('')"
   ]
  },
  {
   "cell_type": "code",
   "execution_count": null,
   "metadata": {},
   "outputs": [],
   "source": []
  }
 ],
 "metadata": {
  "kernelspec": {
   "display_name": "Python 3 (ipykernel)",
   "language": "python",
   "name": "python3"
  },
  "language_info": {
   "codemirror_mode": {
    "name": "ipython",
    "version": 3
   },
   "file_extension": ".py",
   "mimetype": "text/x-python",
   "name": "python",
   "nbconvert_exporter": "python",
   "pygments_lexer": "ipython3",
   "version": "3.7.13"
  }
 },
 "nbformat": 4,
 "nbformat_minor": 4
}
